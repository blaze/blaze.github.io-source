{
 "cells": [
  {
   "cell_type": "markdown",
   "metadata": {},
   "source": [
    "Distributed Arrays\n",
    "---------------------\n",
    "\n",
    "We use [`dask.array`](http://dask.pydata.org/en/latest/array.html), a small cluster on EC2, and [`distributed`](http://distributed.readthedocs.org/en/latest/) together to manipulate large nd-arrays in memory.\n",
    "\n",
    "This is a writeup of a preliminary experiment and nothing to get excited about.  We'll mostly talk about things that are broken, not about fancy things that solve the world's problems."
   ]
  },
  {
   "cell_type": "markdown",
   "metadata": {},
   "source": [
    "### Setup: Download data from ECMWF\n",
    "\n",
    "I've used data from the [European Center for Meteorological Weather Forecasting](http://www.ecmwf.int/) before in [this blogpost about dask.array](http://matthewrocklin.com/blog/work/2015/02/13/Towards-OOC-Slicing-and-Stacking/).  Previously we've interacted with large volumes of data using a single laptop by streaming data from disk.  Now we dump all of the data into distributed memory.  This has some advantages and some drawbacks.\n",
    "\n",
    "ECMWF only has about 1MB/s upload bandwidth, so this takes a while."
   ]
  },
  {
   "cell_type": "code",
   "execution_count": 1,
   "metadata": {
    "collapsed": false
   },
   "outputs": [
    {
     "name": "stdout",
     "output_type": "stream",
     "text": [
      "import pandas as pd\r\n",
      "dates = pd.date_range('2014-01-01', '2014-12-31', freq='D')\r\n",
      "dates = [str(d).split()[0] for d in dates]\r\n",
      "\r\n",
      "from ecmwfapi import ECMWFDataServer\r\n",
      "\r\n",
      "server = ECMWFDataServer()\r\n",
      "\r\n",
      "for date in dates:\r\n",
      "    server.retrieve({\r\n",
      "      'stream'    : \"oper\",\r\n",
      "      'levtype'   : \"sfc\",\r\n",
      "      'param'     : \"165.128/166.128/167.128\",\r\n",
      "      'dataset'   : \"interim\",\r\n",
      "      'step'      : \"00\",\r\n",
      "      'grid'      : \"0.25/0.25\",\r\n",
      "      'time'      : \"00/06/12/18\",\r\n",
      "      'date'      : date,\r\n",
      "      'type'      : \"an\",\r\n",
      "      'class'     : \"ei\",\r\n",
      "      'target'    : date + \".nc\",\r\n",
      "      'format'    : \"netcdf\" })\r\n"
     ]
    }
   ],
   "source": [
    "cat /home/ubuntu/download.py"
   ]
  },
  {
   "cell_type": "markdown",
   "metadata": {},
   "source": [
    "### Connect to distributed workers\n",
    "\n",
    "I've set up a small cluster on EC2 using [anaconda cluster](http://docs.continuum.io/anaconda-cluster/index) and the following profile.\n",
    "\n",
    "```yaml\n",
    "name: medium\n",
    "node_id: ami-08faa660\n",
    "node_type: m3.2xlarge\n",
    "num_nodes: 5\n",
    "provider: aws_east\n",
    "user: ubuntu\n",
    "plugins:\n",
    "  - notebook\n",
    "  - distributed\n",
    "```\n",
    "\n",
    "Note that anaconda cluster is now happy to setup a `distributed` network for me, thanks to nice work by [Daniel Rodriguez](http://danielfrg.com/).  If you want to repeat this experiment on your own without `acluster` don't worry, distributed is simple to [set up](http://distributed.readthedocs.org/en/latest/setup.html)."
   ]
  },
  {
   "cell_type": "code",
   "execution_count": 2,
   "metadata": {
    "collapsed": true
   },
   "outputs": [],
   "source": [
    "from distributed.client import clear\n",
    "clear('54.172.83.119:8787')  # clean up any old data lying around"
   ]
  },
  {
   "cell_type": "code",
   "execution_count": 3,
   "metadata": {
    "collapsed": true
   },
   "outputs": [],
   "source": [
    "from distributed import Executor\n",
    "e = Executor('54.172.83.119:8787')  # connect to cluster's center node"
   ]
  },
  {
   "cell_type": "code",
   "execution_count": 4,
   "metadata": {
    "collapsed": false
   },
   "outputs": [
    {
     "data": {
      "text/plain": [
       "{('172.31.8.61', 8788): 8,\n",
       " ('172.31.8.62', 8788): 8,\n",
       " ('172.31.8.63', 8788): 8,\n",
       " ('172.31.8.64', 8788): 8}"
      ]
     },
     "execution_count": 4,
     "metadata": {},
     "output_type": "execute_result"
    }
   ],
   "source": [
    "e.ncores  # track number of workers"
   ]
  },
  {
   "cell_type": "markdown",
   "metadata": {},
   "source": [
    "So we have four machines, each with eight cores and 30GB of memory."
   ]
  },
  {
   "cell_type": "markdown",
   "metadata": {},
   "source": [
    "### Scatter arrays from head node to workers' memory\n",
    "\n",
    "We've downloaded the ECMWF data onto the head node of our cluster as NetCDF files.  We iteratively load these from disk to local memory and then scatter them throughout the memory of the the worker nodes of the cluster.\n",
    "\n",
    "This is our first major problem; it would be much nicer if this data was stored in a distributed format so that we could read from all of our hard drives, rather than just the hard drive on the head node.  \n",
    "\n",
    "Sadly there is no commonly accepted standard on how to do this.  Common approaches include the following:\n",
    "\n",
    "1.  Store data on a storage node, pull from that disk and scatter out to the workers (what we do here)\n",
    "2.  Store data on a network file system.  This is essentially the same thing performance-wise but abstracts away the storage node.\n",
    "3.  Use a distributed file system like HDFS (not easy to use with NetCDF) or GlusterFS."
   ]
  },
  {
   "cell_type": "code",
   "execution_count": 5,
   "metadata": {
    "collapsed": false
   },
   "outputs": [
    {
     "data": {
      "text/plain": [
       "365"
      ]
     },
     "execution_count": 5,
     "metadata": {},
     "output_type": "execute_result"
    }
   ],
   "source": [
    "from glob import glob\n",
    "filenames = sorted(glob('/home/ubuntu/2014-*-*.nc'))\n",
    "len(filenames)"
   ]
  },
  {
   "cell_type": "markdown",
   "metadata": {},
   "source": [
    "Each file contains a few variables, we pull out `t2m`, the temperature two meters above the ground.  This variable is 33MB per day and has the shape `(4, 721, 1400)` meaning that it has the following measurements:\n",
    "\n",
    "*  4:  every six hours\n",
    "*  721:  Every quarter degree of latitude\n",
    "*  1440:  Every quarter degree of longitude"
   ]
  },
  {
   "cell_type": "code",
   "execution_count": 6,
   "metadata": {
    "collapsed": false
   },
   "outputs": [
    {
     "data": {
      "text/plain": [
       "{'MegaBytes': 33.22368, 'shape': (4, 721, 1440)}"
      ]
     },
     "execution_count": 6,
     "metadata": {},
     "output_type": "execute_result"
    }
   ],
   "source": [
    "import netCDF4\n",
    "import numpy as np\n",
    "\n",
    "f = netCDF4.Dataset(filenames[0])  # load single day's data from disk to memory\n",
    "sample = f['t2m'][:]\n",
    "{'shape': sample.shape, 'MegaBytes': sample.nbytes / 1e6}"
   ]
  },
  {
   "cell_type": "markdown",
   "metadata": {},
   "source": [
    "### Scatter\n",
    "\n",
    "So we roll through our files, load `t2m` from disk, and scatter out to the workers."
   ]
  },
  {
   "cell_type": "code",
   "execution_count": 7,
   "metadata": {
    "collapsed": false
   },
   "outputs": [
    {
     "data": {
      "text/plain": [
       "defaultdict(set, {})"
      ]
     },
     "execution_count": 7,
     "metadata": {},
     "output_type": "execute_result"
    }
   ],
   "source": [
    "e.who_has  # no data in the cluster"
   ]
  },
  {
   "cell_type": "code",
   "execution_count": 8,
   "metadata": {
    "collapsed": false
   },
   "outputs": [
    {
     "name": "stdout",
     "output_type": "stream",
     "text": [
      "CPU times: user 49.4 s, sys: 1min 37s, total: 2min 26s\n",
      "Wall time: 4min 34s\n"
     ]
    }
   ],
   "source": [
    "%%time \n",
    "futures = []\n",
    "for fn in filenames:\n",
    "    with netCDF4.Dataset(fn) as f:\n",
    "        t2m = f['t2m'][:]  # load from disk\n",
    "        futures.append(e.scatter([t2m])[0])"
   ]
  },
  {
   "cell_type": "code",
   "execution_count": 9,
   "metadata": {
    "collapsed": false
   },
   "outputs": [
    {
     "data": {
      "text/plain": [
       "defaultdict(set,\n",
       "            {'27d53712-8999-11e5-87c9-0aa19f43a229-0': {('172.31.8.61', 8788)},\n",
       "             '284fec64-8999-11e5-87c9-0aa19f43a229-0': {('172.31.8.61', 8788)},\n",
       "             '28cbec2e-8999-11e5-87c9-0aa19f43a229-0': {('172.31.8.61', 8788)},\n",
       "             '294b4ea6-8999-11e5-87c9-0aa19f43a229-0': {('172.31.8.61', 8788)},\n",
       "             '29c7d598-8999-11e5-87c9-0aa19f43a229-0': {('172.31.8.61', 8788)},\n",
       "             '2a483e2c-8999-11e5-87c9-0aa19f43a229-0': {('172.31.8.61', 8788)},\n",
       "             '2abfa624-8999-11e5-87c9-0aa19f43a229-0': {('172.31.8.61', 8788)},\n",
       "             '2b2fd282-8999-11e5-87c9-0aa19f43a229-0': {('172.31.8.61', 8788)},\n",
       "             '2b995eb4-8999-11e5-87c9-0aa19f43a229-0': {('172.31.8.64', 8788)},\n",
       "             '2c0d24a2-8999-11e5-87c9-0aa19f43a229-0': {('172.31.8.64', 8788)},\n",
       "             '2c7a1652-8999-11e5-87c9-0aa19f43a229-0': {('172.31.8.64', 8788)},\n",
       "              ...)\n"
      ]
     },
     "execution_count": 9,
     "metadata": {},
     "output_type": "execute_result"
    }
   ],
   "source": [
    "e.who_has  # lots of data in the cluster"
   ]
  },
  {
   "cell_type": "markdown",
   "metadata": {},
   "source": [
    "### Construct dask.array from futures\n",
    "\n",
    "We now stack these little NumPy arrays into a logical dask.array.  \n",
    "\n",
    "It's not yet clear what the right API is for this.  People will have many different arrangements of how they want to organize their many small numpy arrays into larger dask.arrays.  This space is green-field.\n",
    "\n",
    "So for now, rather than build a `dask.array.construct_distributed_array(...)` function, we just construct the dask.array by hand.  This is easy to do if you understand [the structure of dask arrays](http://dask.pydata.org/en/latest/array-design.html) but not user-friendly otherwise.  \n",
    "\n",
    "We'll make convenient user-facing functions after more experience with actual problems.  (Send me your problems!)"
   ]
  },
  {
   "cell_type": "code",
   "execution_count": 10,
   "metadata": {
    "collapsed": false
   },
   "outputs": [
    {
     "data": {
      "text/plain": [
       "dask.array<x, shape=(1460, 721, 1440), dtype=float64, chunksize=(4, 721, 1440)>"
      ]
     },
     "execution_count": 10,
     "metadata": {},
     "output_type": "execute_result"
    }
   ],
   "source": [
    "import dask.array as da\n",
    "\n",
    "dsk = {('x', i, 0, 0): f for i, f in enumerate(futures)}\n",
    "chunks = ((4,) * len(futures), (721,), (1440,))\n",
    "\n",
    "x = da.Array(dsk, 'x', chunks, np.float64)\n",
    "x"
   ]
  },
  {
   "cell_type": "markdown",
   "metadata": {},
   "source": [
    "All done.  Hopefully that wasn't too bad but feel free to treat this as magic if you like."
   ]
  },
  {
   "cell_type": "markdown",
   "metadata": {},
   "source": [
    "### Tell dask to use the distributed cluster\n",
    "\n",
    "Dask needs to know that we want to use the distributed cluster operated by our executor.  Otherwise it will try to use threads by default and this will fail."
   ]
  },
  {
   "cell_type": "code",
   "execution_count": 11,
   "metadata": {
    "collapsed": false
   },
   "outputs": [
    {
     "data": {
      "text/plain": [
       "<dask.context.set_options at 0x7fa62423b950>"
      ]
     },
     "execution_count": 11,
     "metadata": {},
     "output_type": "execute_result"
    }
   ],
   "source": [
    "import dask\n",
    "dask.set_options(get=e.get)"
   ]
  },
  {
   "cell_type": "markdown",
   "metadata": {},
   "source": [
    "### Compute and time\n",
    "\n",
    "We perform a sequence of small operations to tease out performance characteristics of the distributed network.  Our full data is 12 GB spread over four nodes, each with eight cores."
   ]
  },
  {
   "cell_type": "code",
   "execution_count": 12,
   "metadata": {
    "collapsed": false
   },
   "outputs": [
    {
     "data": {
      "text/plain": [
       "12.1266432"
      ]
     },
     "execution_count": 12,
     "metadata": {},
     "output_type": "execute_result"
    }
   ],
   "source": [
    "x.nbytes / 1e9  # GB"
   ]
  },
  {
   "cell_type": "markdown",
   "metadata": {},
   "source": [
    "### Tiny Computation and Overhead\n",
    "\n",
    "We pull a single element from the array to measure total system overhead.\n",
    "\n",
    "The entire process takes a few milliseconds.  I think that we can reduce this a bit further (there is an unnecessary extra roundtrip in there), but we're within a moderate factor of theoretical optimum."
   ]
  },
  {
   "cell_type": "code",
   "execution_count": 13,
   "metadata": {
    "collapsed": false
   },
   "outputs": [
    {
     "name": "stdout",
     "output_type": "stream",
     "text": [
      "CPU times: user 8 ms, sys: 0 ns, total: 8 ms\n",
      "Wall time: 8.81 ms\n"
     ]
    },
    {
     "data": {
      "text/plain": [
       "253.96238623555584"
      ]
     },
     "execution_count": 13,
     "metadata": {},
     "output_type": "execute_result"
    }
   ],
   "source": [
    "%time x[0, 0, 0].compute()"
   ]
  },
  {
   "cell_type": "markdown",
   "metadata": {},
   "source": [
    "### Small data transfer\n",
    "\n",
    "Data transfer is non-trivial on this network.  Here we move around 8MB from a worker to the local machine in 110ms.\n",
    "\n",
    "Ignoring latency, this is around 75MB/s.  That's decent, but actually much slower than our disk bandwidth when operating out-of-core on a single machine."
   ]
  },
  {
   "cell_type": "code",
   "execution_count": 14,
   "metadata": {
    "collapsed": false
   },
   "outputs": [
    {
     "name": "stdout",
     "output_type": "stream",
     "text": [
      "CPU times: user 64 ms, sys: 28 ms, total: 92 ms\n",
      "Wall time: 110 ms\n"
     ]
    },
    {
     "data": {
      "text/plain": [
       "array([[ 264.11380568,  264.11380568,  264.11380568, ...,  264.11380568,\n",
       "         264.11380568,  264.11380568],\n",
       "       [ 265.37222634,  265.36602722,  265.35982811, ...,  265.38307479,\n",
       "         265.37997524,  265.3753259 ],\n",
       "       [ 265.46521309,  265.45901397,  265.45126508, ...,  265.47761132,\n",
       "         265.47296198,  265.46986243],\n",
       "       ..., \n",
       "       [ 243.97287605,  243.96977649,  243.96512716, ...,  243.98527428,\n",
       "         243.98062495,  243.97752539],\n",
       "       [ 243.97287605,  243.96977649,  243.96512716, ...,  243.98527428,\n",
       "         243.98062495,  243.97752539],\n",
       "       [ 243.10190018,  243.10190018,  243.10190018, ...,  243.10190018,\n",
       "         243.10190018,  243.10190018]])"
      ]
     },
     "execution_count": 14,
     "metadata": {},
     "output_type": "execute_result"
    }
   ],
   "source": [
    "%time x[100, :, :].compute()"
   ]
  },
  {
   "cell_type": "markdown",
   "metadata": {},
   "source": [
    "These computations are about what we would expect if operating from disk.  Neither distributed-memory nor local-disk is notably superior here."
   ]
  },
  {
   "cell_type": "markdown",
   "metadata": {},
   "source": [
    "### Computation bound\n",
    "\n",
    "Full computations use the whole cluster, we're mostly compute bound here.  There is little data to transfer around (just single floats) so we're pretty sure that we're stressing computation and network latency."
   ]
  },
  {
   "cell_type": "code",
   "execution_count": 15,
   "metadata": {
    "collapsed": false
   },
   "outputs": [
    {
     "name": "stdout",
     "output_type": "stream",
     "text": [
      "CPU times: user 460 ms, sys: 36 ms, total: 496 ms\n",
      "Wall time: 774 ms\n"
     ]
    },
    {
     "data": {
      "text/plain": [
       "422680260719.94751"
      ]
     },
     "execution_count": 15,
     "metadata": {},
     "output_type": "execute_result"
    }
   ],
   "source": [
    "%time x.sum().compute()"
   ]
  },
  {
   "cell_type": "markdown",
   "metadata": {},
   "source": [
    "This is a *huge win* over an on-disk solution.  This computation would have taken us minutes to do if we had to pull the data from disk."
   ]
  },
  {
   "cell_type": "markdown",
   "metadata": {},
   "source": [
    "### Increase Communication\n",
    "\n",
    "The next two computations do similar computations but with different communication patterns, we see a very large change in performance.\n",
    "\n",
    "*  The first computation computes the average temperature over the whole planet over time (averaging out spatial dimensions).  It executes very quickly.  This does not require any communication between worker nodes because it is aligned with how we've chunked our data.\n",
    "*  The second computation computes the average over the time dimension.  This does require communication between worker nodes as they share about 3GB between each other."
   ]
  },
  {
   "cell_type": "code",
   "execution_count": 16,
   "metadata": {
    "collapsed": false
   },
   "outputs": [
    {
     "name": "stdout",
     "output_type": "stream",
     "text": [
      "CPU times: user 644 ms, sys: 32 ms, total: 676 ms\n",
      "Wall time: 1.17 s\n"
     ]
    },
    {
     "data": {
      "text/plain": [
       "array([ 277.29761461,  277.50818372,  277.77023522, ...,  277.26209424,\n",
       "        277.61283083,  277.38320223])"
      ]
     },
     "execution_count": 16,
     "metadata": {},
     "output_type": "execute_result"
    }
   ],
   "source": [
    "%time x.mean(axis=[1, 2]).compute()"
   ]
  },
  {
   "cell_type": "code",
   "execution_count": 17,
   "metadata": {
    "collapsed": false
   },
   "outputs": [
    {
     "name": "stdout",
     "output_type": "stream",
     "text": [
      "CPU times: user 688 ms, sys: 160 ms, total: 848 ms\n",
      "Wall time: 5min 27s\n"
     ]
    },
    {
     "data": {
      "text/plain": [
       "array([[ 260.67545742,  260.67545742,  260.67545742, ...,  260.67545742,\n",
       "         260.67545742,  260.67545742],\n",
       "       [ 260.80978656,  260.81082765,  260.8119064 , ...,  260.80643692,\n",
       "         260.80756166,  260.80863382],\n",
       "       [ 260.85199166,  260.85328043,  260.85450587, ...,  260.84783287,\n",
       "         260.84923888,  260.85058685],\n",
       "       ..., \n",
       "       [ 228.02812417,  228.02513365,  228.0221535 , ...,  228.0347369 ,\n",
       "         228.03253842,  228.03033575],\n",
       "       [ 228.02848855,  228.02552743,  228.02253079, ...,  228.03511764,\n",
       "         228.03293455,  228.03067397],\n",
       "       [ 227.19711672,  227.19711672,  227.19711672, ...,  227.19711672,\n",
       "         227.19711672,  227.19711672]])"
      ]
     },
     "execution_count": 17,
     "metadata": {},
     "output_type": "execute_result"
    }
   ],
   "source": [
    "%time x.mean(axis=0).compute()"
   ]
  },
  {
   "cell_type": "markdown",
   "metadata": {},
   "source": [
    "There are a few solutions to this problem:\n",
    "\n",
    "1.  We can use networks with better interconnects\n",
    "2.  We can change dask.array's reductions to be more tree-like.  The data is already scattered so that nearby days are on the same machine.  A more fine grained reduction will exploit this considerably.\n",
    "\n",
    "Until we solve this problem this computation is slower in distributed-memory than with local-disk.  Disk bandwidth is better and we can be more clever about keeping results in a single shared memory space."
   ]
  },
  {
   "cell_type": "markdown",
   "metadata": {},
   "source": [
    "### Fail case\n",
    "\n",
    "The following computation takes a *very long time*.\n",
    "\n",
    "    (x - x.mean())\n",
    "    \n",
    "This is because we don't track the size in bytes of every variable in the scheduler.\n",
    "\n",
    "After we compute `x.mean()` on one machine we want to subtract it from every numpy block $x_{i}$ of our array.  If we know the relative size of the arrays then we know that we want to move the `x.mean()` result to the machine with $x_i$ because `x.mean()` is only a few bytes while $x_i$ is 33MB.  Unfortunately the scheduler doesn't know what we know yet, so it doesn't always make this decision, and so the resulting computation can be very slow over a slow interconnect."
   ]
  },
  {
   "cell_type": "markdown",
   "metadata": {},
   "source": [
    "### TODO\n",
    "\n",
    "In conclusion, we have to solve the following problems:\n",
    "\n",
    "1.  Think about n-dimensional distributed array storage\n",
    "2.  Use dask.array + distributed more to get a sense of what user-APIs would be broadly helpful\n",
    "3.  Support reduction trees in `dask.array`\n",
    "4.  Track size of variables in the distributed scheduler.  "
   ]
  }
 ],
 "metadata": {
  "kernelspec": {
   "display_name": "Python 2",
   "language": "python",
   "name": "python2"
  },
  "language_info": {
   "codemirror_mode": {
    "name": "ipython",
    "version": 2
   },
   "file_extension": ".py",
   "mimetype": "text/x-python",
   "name": "python",
   "nbconvert_exporter": "python",
   "pygments_lexer": "ipython2",
   "version": "2.7.10"
  }
 },
 "nbformat": 4,
 "nbformat_minor": 0
}
